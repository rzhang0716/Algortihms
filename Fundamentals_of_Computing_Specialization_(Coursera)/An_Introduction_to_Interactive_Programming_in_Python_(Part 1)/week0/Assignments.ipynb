{
 "cells": [
  {
   "cell_type": "markdown",
   "metadata": {},
   "source": [
    "#### 1. There are 5280 feet in a mile. Write a Python statement that calculates and prints the number of feet in 13 miles. "
   ]
  },
  {
   "cell_type": "code",
   "execution_count": 3,
   "metadata": {},
   "outputs": [
    {
     "name": "stdout",
     "output_type": "stream",
     "text": [
      "How many miles do you have?13\n",
      "there are 68640 feet in 13 miles.\n"
     ]
    }
   ],
   "source": [
    "a = int(input('How many miles do you have?'))\n",
    "b = a*5280\n",
    "print(f'there are {b} feet in {a} miles.')"
   ]
  },
  {
   "cell_type": "markdown",
   "metadata": {},
   "source": [
    "#### 2. Write a Python statement that calculates and prints the number of seconds in 7 hours, 21 minutes and 37 seconds."
   ]
  },
  {
   "cell_type": "code",
   "execution_count": 5,
   "metadata": {},
   "outputs": [
    {
     "name": "stdout",
     "output_type": "stream",
     "text": [
      "26497\n"
     ]
    }
   ],
   "source": [
    "print((7*60+21)*60+37)"
   ]
  },
  {
   "cell_type": "markdown",
   "metadata": {},
   "source": [
    "#### 3. The perimeter of a rectangle is 2 w + 2 h, where w and h are the lengths of its sides. Write a Python statement that calculates and prints the length in inches of the perimeter of a rectangle with sides of length 4 and 7 inches."
   ]
  },
  {
   "cell_type": "code",
   "execution_count": 7,
   "metadata": {
    "scrolled": true
   },
   "outputs": [
    {
     "name": "stdout",
     "output_type": "stream",
     "text": [
      "Width4\n",
      "length7\n",
      "22.0\n"
     ]
    }
   ],
   "source": [
    "w = float(input('Width'))\n",
    "h = float(input('length'))\n",
    "per = 2*w+2*h\n",
    "print(per)"
   ]
  },
  {
   "cell_type": "markdown",
   "metadata": {},
   "source": [
    "#### 4. Write a Python expression that combines the string\"Joe Warren is 52 years old.\"Joe Warren is 52 years old.\" from the string\"Joe Warren and the number 52 and then prints the result "
   ]
  },
  {
   "cell_type": "code",
   "execution_count": 9,
   "metadata": {},
   "outputs": [
    {
     "name": "stdout",
     "output_type": "stream",
     "text": [
      "age52\n",
      "nameJoe Warren\n",
      " Joe Warren is 52 years old\n"
     ]
    }
   ],
   "source": [
    "age = input('age')\n",
    "name = input('name')\n",
    "print(f'{name} is {age} years old')"
   ]
  },
  {
   "cell_type": "code",
   "execution_count": null,
   "metadata": {},
   "outputs": [],
   "source": []
  }
 ],
 "metadata": {
  "kernelspec": {
   "display_name": "Python 3",
   "language": "python",
   "name": "python3"
  },
  "language_info": {
   "codemirror_mode": {
    "name": "ipython",
    "version": 3
   },
   "file_extension": ".py",
   "mimetype": "text/x-python",
   "name": "python",
   "nbconvert_exporter": "python",
   "pygments_lexer": "ipython3",
   "version": "3.7.6"
  }
 },
 "nbformat": 4,
 "nbformat_minor": 4
}
