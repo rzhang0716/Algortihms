{
 "cells": [
  {
   "cell_type": "markdown",
   "metadata": {},
   "source": [
    "Rock-paper-scissors-lizard-Spock (RPSLS) is a variant of Rock-paper-scissors that allows five choices. Each choice wins against two other choices, loses against two other choices and ties against itself. Much of RPSLS's popularity is that it has been featured in 3 episodes of the TV series \"The Big Bang Theory\". The Wikipedia entry for RPSLS gives the complete description of the details of the game."
   ]
  },
  {
   "cell_type": "code",
   "execution_count": 11,
   "metadata": {},
   "outputs": [],
   "source": [
    "# define the functions to convert name to number\n",
    "def name_to_number(name):\n",
    "    if name == 'rock':\n",
    "        return 0\n",
    "    elif name == 'Spock':\n",
    "        return 1\n",
    "    elif name == 'paper':\n",
    "        return 2\n",
    "    elif name == 'lizard':\n",
    "        return 3\n",
    "    elif name == 'scissors':\n",
    "        return 4\n",
    "    else:\n",
    "        return 'Error, plz error in correct name'"
   ]
  },
  {
   "cell_type": "code",
   "execution_count": 12,
   "metadata": {},
   "outputs": [],
   "source": [
    "# define the function to convert number to name\n",
    "def number_to_name(number):\n",
    "    if number == 0:\n",
    "        return 'rock'\n",
    "    elif number == 1:\n",
    "        return 'Spock'\n",
    "    elif number == 2:\n",
    "        return 'paper'\n",
    "    elif number == 3:\n",
    "        return 'lizard'\n",
    "    elif number == 4 :\n",
    "        return 'scissors'\n",
    "    else:\n",
    "        return 'Error, plz error in correct range'"
   ]
  },
  {
   "cell_type": "code",
   "execution_count": 10,
   "metadata": {},
   "outputs": [
    {
     "name": "stdout",
     "output_type": "stream",
     "text": [
      "\n",
      "rock\n",
      "Spock\n",
      "computer wins!\n",
      "\n",
      "Spock\n",
      "paper\n",
      "computer wins!\n",
      "\n",
      "paper\n",
      "scissors\n",
      "player wins!\n",
      "\n",
      "lizard\n",
      "lizard\n",
      "Tie!\n",
      "\n",
      "scissors\n",
      "paper\n",
      "computer wins!\n"
     ]
    }
   ],
   "source": [
    "import random\n",
    "def rpsls(player_choice):   \n",
    "    print()\n",
    "    print(player_choice)\n",
    "    player_number = name_to_number(player_choice)\n",
    "    comp_number = random.randrange(0,5)\n",
    "    comp_choice = number_to_name(comp_number)\n",
    "    print(comp_choice)\n",
    "    difference = player_number - comp_number \n",
    "    if difference % 5 in (1,3):\n",
    "        return 'player wins!'\n",
    "    elif difference % 5 in (2,4):\n",
    "        return 'computer wins!'\n",
    "    return 'Tie!'\n",
    "\n",
    "print(rpsls(\"rock\"))\n",
    "print(rpsls(\"Spock\"))\n",
    "print(rpsls(\"paper\"))\n",
    "print(rpsls(\"lizard\"))\n",
    "print(rpsls(\"scissors\"))"
   ]
  }
 ],
 "metadata": {
  "kernelspec": {
   "display_name": "Python 3",
   "language": "python",
   "name": "python3"
  },
  "language_info": {
   "codemirror_mode": {
    "name": "ipython",
    "version": 3
   },
   "file_extension": ".py",
   "mimetype": "text/x-python",
   "name": "python",
   "nbconvert_exporter": "python",
   "pygments_lexer": "ipython3",
   "version": "3.7.6"
  }
 },
 "nbformat": 4,
 "nbformat_minor": 4
}
